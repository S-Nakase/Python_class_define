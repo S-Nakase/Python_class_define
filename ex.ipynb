{
 "cells": [
  {
   "attachments": {},
   "cell_type": "markdown",
   "metadata": {},
   "source": [
    "* 参考\n",
    "\n",
    "https://qiita.com/y_itoh/items/82222af50bf1f80255eb"
   ]
  },
  {
   "cell_type": "code",
   "execution_count": 1,
   "metadata": {},
   "outputs": [],
   "source": [
    "from greeting import Greeting"
   ]
  },
  {
   "cell_type": "code",
   "execution_count": 4,
   "metadata": {},
   "outputs": [
    {
     "name": "stdout",
     "output_type": "stream",
     "text": [
      "mjin、おはようございます！\n"
     ]
    }
   ],
   "source": [
    "Greeting('mjin').morning()"
   ]
  },
  {
   "cell_type": "code",
   "execution_count": 3,
   "metadata": {},
   "outputs": [
    {
     "name": "stdout",
     "output_type": "stream",
     "text": [
      "mjin、こんばんは！\n"
     ]
    }
   ],
   "source": [
    "Greeting('mjin').evening()"
   ]
  },
  {
   "cell_type": "code",
   "execution_count": 5,
   "metadata": {},
   "outputs": [],
   "source": [
    "from introduce import Profile"
   ]
  },
  {
   "cell_type": "code",
   "execution_count": 7,
   "metadata": {},
   "outputs": [
    {
     "data": {
      "text/plain": [
       "'私の名前はShunです。年齢は22歳です。'"
      ]
     },
     "execution_count": 7,
     "metadata": {},
     "output_type": "execute_result"
    }
   ],
   "source": [
    "Profile('Shun', 22).introduce()"
   ]
  },
  {
   "cell_type": "code",
   "execution_count": 14,
   "metadata": {},
   "outputs": [],
   "source": [
    "from NLP import NLP"
   ]
  },
  {
   "cell_type": "code",
   "execution_count": 15,
   "metadata": {},
   "outputs": [
    {
     "name": "stdout",
     "output_type": "stream",
     "text": [
      "['I', 'would', 'like', 'to', 'become', 'a', 'creative', 'engineer', '.', 'I', 'would', 'like', 'to', 'go', 'to', 'France', '.']\n"
     ]
    }
   ],
   "source": [
    "sentence = \"I would like to become a creative engineer. I would like to go to France.\"\n",
    "NLP(sentence).pos()"
   ]
  },
  {
   "cell_type": "code",
   "execution_count": 16,
   "metadata": {},
   "outputs": [
    {
     "name": "stdout",
     "output_type": "stream",
     "text": [
      "('I', 'would') 2\n",
      "('would', 'like') 2\n",
      "('like', 'to') 2\n",
      "('to', 'become') 1\n",
      "('become', 'a') 1\n",
      "('a', 'creative') 1\n",
      "('creative', 'engineer') 1\n",
      "('engineer', '.') 1\n",
      "('.', 'I') 1\n",
      "('to', 'go') 1\n",
      "('go', 'to') 1\n",
      "('to', 'France') 1\n",
      "('France', '.') 1\n"
     ]
    }
   ],
   "source": [
    "NLP(sentence).ngram_dic2()"
   ]
  },
  {
   "cell_type": "code",
   "execution_count": 17,
   "metadata": {},
   "outputs": [
    {
     "ename": "AttributeError",
     "evalue": "'NLP' object has no attribute 'ngram_dic3'",
     "output_type": "error",
     "traceback": [
      "\u001b[1;31m---------------------------------------------------------------------------\u001b[0m",
      "\u001b[1;31mAttributeError\u001b[0m                            Traceback (most recent call last)",
      "\u001b[1;32mc:\\Users\\snaka\\OneDrive\\デスクトップ\\独プロ\\Python_class_define\\ex.ipynb セル 10\u001b[0m in \u001b[0;36m<cell line: 1>\u001b[1;34m()\u001b[0m\n\u001b[1;32m----> <a href='vscode-notebook-cell:/c%3A/Users/snaka/OneDrive/%E3%83%87%E3%82%B9%E3%82%AF%E3%83%88%E3%83%83%E3%83%97/%E7%8B%AC%E3%83%97%E3%83%AD/Python_class_define/ex.ipynb#X12sZmlsZQ%3D%3D?line=0'>1</a>\u001b[0m NLP(sentence)\u001b[39m.\u001b[39;49mngram_dic3()\n",
      "\u001b[1;31mAttributeError\u001b[0m: 'NLP' object has no attribute 'ngram_dic3'"
     ]
    }
   ],
   "source": [
    "NLP(sentence).ngram_dic3()"
   ]
  }
 ],
 "metadata": {
  "kernelspec": {
   "display_name": "base",
   "language": "python",
   "name": "python3"
  },
  "language_info": {
   "codemirror_mode": {
    "name": "ipython",
    "version": 3
   },
   "file_extension": ".py",
   "mimetype": "text/x-python",
   "name": "python",
   "nbconvert_exporter": "python",
   "pygments_lexer": "ipython3",
   "version": "3.9.12"
  },
  "orig_nbformat": 4,
  "vscode": {
   "interpreter": {
    "hash": "ad2bdc8ecc057115af97d19610ffacc2b4e99fae6737bb82f5d7fb13d2f2c186"
   }
  }
 },
 "nbformat": 4,
 "nbformat_minor": 2
}
